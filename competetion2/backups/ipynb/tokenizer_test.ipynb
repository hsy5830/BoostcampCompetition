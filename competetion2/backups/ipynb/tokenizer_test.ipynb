{
 "cells": [
  {
   "cell_type": "markdown",
   "id": "686f7537",
   "metadata": {},
   "source": [
    "# AutoTokenizer.from_pretrained(MODEL_NAME)"
   ]
  },
  {
   "cell_type": "code",
   "execution_count": 5,
   "id": "36e512ad",
   "metadata": {
    "ExecuteTime": {
     "end_time": "2022-11-15T08:38:47.247016Z",
     "start_time": "2022-11-15T08:38:41.364351Z"
    }
   },
   "outputs": [],
   "source": [
    "from transformers import AutoTokenizer\n",
    "import pickle as pickle\n",
    "import os\n",
    "import pandas as pd\n",
    "import torch\n",
    "\n",
    "def load_data(dataset_dir):\n",
    "    \"\"\" csv 파일을 경로에 맡게 불러 옵니다. \"\"\"\n",
    "    pd_dataset = pd.read_csv(dataset_dir)\n",
    "    dataset = preprocessing_dataset(pd_dataset)\n",
    "  \n",
    "    return dataset\n",
    "\n",
    "def tokenized_dataset(dataset, tokenizer):\n",
    "    \"\"\" tokenizer에 따라 sentence를 tokenizing 합니다.\"\"\"\n",
    "    concat_entity = []\n",
    "    for e01, e02 in zip(dataset['subject_entity'], dataset['object_entity']):\n",
    "        temp = ''\n",
    "        temp = e01 + '[SEP]' + e02\n",
    "        concat_entity.append(temp)\n",
    "    tokenized_sentences = tokenizer(\n",
    "        concat_entity,\n",
    "        list(dataset['sentence']),\n",
    "        return_tensors=\"pt\",\n",
    "        padding=True,\n",
    "        truncation=True,\n",
    "        max_length=256,\n",
    "        add_special_tokens=True,\n",
    "    )\n",
    "    return tokenized_sentences"
   ]
  },
  {
   "cell_type": "code",
   "execution_count": 8,
   "id": "8967ef62",
   "metadata": {
    "ExecuteTime": {
     "end_time": "2022-11-15T08:39:39.312350Z",
     "start_time": "2022-11-15T08:39:34.728912Z"
    }
   },
   "outputs": [
    {
     "name": "stdout",
     "output_type": "stream",
     "text": [
      "loading data\n",
      "label to num\n",
      "tokenized dataset\n",
      "<class 'transformers.tokenization_utils_base.BatchEncoding'>\n",
      "['input_ids', 'token_type_ids', 'attention_mask']\n",
      "0        〈Something〉는 조지 해리슨이 쓰고 비틀즈가 1969년 앨범 《Abbey R...\n",
      "1        호남이 기반인 바른미래당·대안신당·민주평화당이 우여곡절 끝에 합당해 민생당(가칭)으...\n",
      "2        K리그2에서 성적 1위를 달리고 있는 광주FC는 지난 26일 한국프로축구연맹으로부터...\n",
      "3        균일가 생활용품점 (주)아성다이소(대표 박정부)는 코로나19 바이러스로 어려움을 겪...\n",
      "4        1967년 프로 야구 드래프트 1순위로 요미우리 자이언츠에게 입단하면서 등번호는 8...\n",
      "                               ...                        \n",
      "32465    한국당은 7일 오전 9시부터 오후 5시까지 진행된 원내대표 및 정책위의장 후보자 등...\n",
      "32466    법포는 다시 최시형, 서병학, 손병희 직계인 북접과 다시 서장옥, 전봉준, 김개남을...\n",
      "32467    완도군(군수 신우철)이 국토교통부에서 실시한 '2019 교통문화지수 실태조사'에서 ...\n",
      "32468    중앙일보, JTBC 회장을 지낸 이후 중앙홀딩스 회장, 재단법인 한반도평화만들기 이...\n",
      "32469    화순군(군수 구충곤)은 17일 동면의 이장 20여 명이 코로나 19 예방을 위해 버...\n",
      "Name: sentence, Length: 32470, dtype: object\n"
     ]
    },
    {
     "ename": "TypeError",
     "evalue": "tokenized_dataset() missing 1 required positional argument: 'tokenizer'",
     "output_type": "error",
     "traceback": [
      "\u001b[0;31m---------------------------------------------------------------------------\u001b[0m",
      "\u001b[0;31mTypeError\u001b[0m                                 Traceback (most recent call last)",
      "\u001b[0;32m/var/folders/sy/871lxvt55dl474wwk5xc7r1c0000gn/T/com.apple.shortcuts.mac-helper/ipykernel_63774/1344194160.py\u001b[0m in \u001b[0;36m<module>\u001b[0;34m\u001b[0m\n\u001b[1;32m     40\u001b[0m \u001b[0;34m\u001b[0m\u001b[0m\n\u001b[1;32m     41\u001b[0m \u001b[0mprint\u001b[0m\u001b[0;34m(\u001b[0m\u001b[0mtrain_dataset\u001b[0m\u001b[0;34m[\u001b[0m\u001b[0;34m'sentence'\u001b[0m\u001b[0;34m]\u001b[0m\u001b[0;34m)\u001b[0m\u001b[0;34m\u001b[0m\u001b[0;34m\u001b[0m\u001b[0m\n\u001b[0;32m---> 42\u001b[0;31m \u001b[0mprint\u001b[0m\u001b[0;34m(\u001b[0m\u001b[0mtokenized_dataset\u001b[0m\u001b[0;34m(\u001b[0m\u001b[0mtrain_dataset\u001b[0m\u001b[0;34m[\u001b[0m\u001b[0;34m'sentence'\u001b[0m\u001b[0;34m]\u001b[0m\u001b[0;34m)\u001b[0m\u001b[0;34m)\u001b[0m\u001b[0;34m\u001b[0m\u001b[0;34m\u001b[0m\u001b[0m\n\u001b[0m",
      "\u001b[0;31mTypeError\u001b[0m: tokenized_dataset() missing 1 required positional argument: 'tokenizer'"
     ]
    }
   ],
   "source": [
    "def label_to_num(label):\n",
    "    num_label = []\n",
    "    with open('dict_label_to_num.pkl', 'rb') as f:\n",
    "        dict_label_to_num = pickle.load(f)\n",
    "    for v in label:\n",
    "        num_label.append(dict_label_to_num[v])\n",
    "\n",
    "    return num_label\n",
    "\n",
    "def preprocessing_dataset(dataset):\n",
    "    \"\"\" 처음 불러온 csv 파일을 원하는 형태의 DataFrame으로 변경 시켜줍니다.\"\"\"\n",
    "    subject_entity = []\n",
    "    object_entity = []\n",
    "    for i,j in zip(dataset['subject_entity'], dataset['object_entity']):\n",
    "        i = i[1:-1].split(',')[0].split(':')[1]\n",
    "        j = j[1:-1].split(',')[0].split(':')[1]\n",
    "\n",
    "        subject_entity.append(i)\n",
    "        object_entity.append(j)\n",
    "    out_dataset = pd.DataFrame({'id':dataset['id'], 'sentence':dataset['sentence'],'subject_entity':subject_entity,'object_entity':object_entity,'label':dataset['label'],})\n",
    "    return out_dataset\n",
    "\n",
    "MODEL_NAME = \"klue/bert-base\"\n",
    "tokenizer = AutoTokenizer.from_pretrained(MODEL_NAME)\n",
    "\n",
    "print(\"loading data\")\n",
    "train_dataset = load_data(\"train.csv\")\n",
    "\n",
    "print(\"label to num\")\n",
    "train_label = label_to_num(train_dataset['label'].values)\n",
    "\n",
    "print(\"tokenized dataset\")\n",
    "tokenized_train = tokenized_dataset(train_dataset, tokenizer)\n",
    "\n",
    "\n",
    "print(type(tokenized_train))\n",
    "print(list(tokenized_train))\n",
    "# print(tokenized_train)\n",
    "# print(tokenized_train['input_ids'][1])\n",
    "\n",
    "print(train_dataset['sentence'])"
   ]
  },
  {
   "cell_type": "code",
   "execution_count": 11,
   "id": "94f3bb35",
   "metadata": {
    "ExecuteTime": {
     "end_time": "2022-11-15T08:40:07.288286Z",
     "start_time": "2022-11-15T08:40:07.278124Z"
    }
   },
   "outputs": [
    {
     "data": {
      "text/plain": [
       "id                                                                1\n",
       "sentence          호남이 기반인 바른미래당·대안신당·민주평화당이 우여곡절 끝에 합당해 민생당(가칭)으...\n",
       "subject_entity                                              '민주평화당'\n",
       "object_entity                                                '대안신당'\n",
       "label                                                   no_relation\n",
       "Name: 1, dtype: object"
      ]
     },
     "execution_count": 11,
     "metadata": {},
     "output_type": "execute_result"
    }
   ],
   "source": [
    "train_dataset.iloc[1]"
   ]
  },
  {
   "cell_type": "code",
   "execution_count": 16,
   "id": "9989055b",
   "metadata": {
    "ExecuteTime": {
     "end_time": "2022-11-15T08:41:31.496534Z",
     "start_time": "2022-11-15T08:41:31.476293Z"
    }
   },
   "outputs": [
    {
     "data": {
      "text/html": [
       "<div>\n",
       "<style scoped>\n",
       "    .dataframe tbody tr th:only-of-type {\n",
       "        vertical-align: middle;\n",
       "    }\n",
       "\n",
       "    .dataframe tbody tr th {\n",
       "        vertical-align: top;\n",
       "    }\n",
       "\n",
       "    .dataframe thead th {\n",
       "        text-align: right;\n",
       "    }\n",
       "</style>\n",
       "<table border=\"1\" class=\"dataframe\">\n",
       "  <thead>\n",
       "    <tr style=\"text-align: right;\">\n",
       "      <th></th>\n",
       "      <th>id</th>\n",
       "      <th>sentence</th>\n",
       "      <th>subject_entity</th>\n",
       "      <th>object_entity</th>\n",
       "      <th>label</th>\n",
       "    </tr>\n",
       "  </thead>\n",
       "  <tbody>\n",
       "    <tr>\n",
       "      <th>1</th>\n",
       "      <td>1</td>\n",
       "      <td>호남이 기반인 바른미래당·대안신당·민주평화당이 우여곡절 끝에 합당해 민생당(가칭)으...</td>\n",
       "      <td>'민주평화당'</td>\n",
       "      <td>'대안신당'</td>\n",
       "      <td>no_relation</td>\n",
       "    </tr>\n",
       "  </tbody>\n",
       "</table>\n",
       "</div>"
      ],
      "text/plain": [
       "  id                                           sentence subject_entity  \\\n",
       "1  1  호남이 기반인 바른미래당·대안신당·민주평화당이 우여곡절 끝에 합당해 민생당(가칭)으...        '민주평화당'   \n",
       "\n",
       "  object_entity        label  \n",
       "1        '대안신당'  no_relation  "
      ]
     },
     "execution_count": 16,
     "metadata": {},
     "output_type": "execute_result"
    }
   ],
   "source": [
    "pd.DataFrame(train_dataset.iloc[1]).T"
   ]
  },
  {
   "cell_type": "code",
   "execution_count": 14,
   "id": "feb75be3",
   "metadata": {
    "ExecuteTime": {
     "end_time": "2022-11-15T08:41:15.121575Z",
     "start_time": "2022-11-15T08:41:15.115498Z"
    }
   },
   "outputs": [
    {
     "name": "stdout",
     "output_type": "stream",
     "text": [
      "<class 'pandas.core.series.Series'>\n",
      "<class 'pandas.core.frame.DataFrame'>\n"
     ]
    }
   ],
   "source": [
    "print(type(train_dataset.iloc[1]))\n",
    "print(type(train_dataset))"
   ]
  },
  {
   "cell_type": "code",
   "execution_count": 17,
   "id": "88df25bd",
   "metadata": {
    "ExecuteTime": {
     "end_time": "2022-11-15T08:41:38.207309Z",
     "start_time": "2022-11-15T08:41:38.193269Z"
    }
   },
   "outputs": [
    {
     "data": {
      "text/plain": [
       "{'input_ids': tensor([[    2,    11,  3772,  2139,  2267,  2481,    11,     3,    11,  5605,\n",
       "          2250,  2481,    11,     3,  6409,  2052,  4568,  2179,  6417,  2044,\n",
       "          2315,  2481,   100,  5605,  2250,  2481,   100,  3772,  2139,  2267,\n",
       "          2481,  2052, 16489,   711,  2170, 12827,  2097,  8646,  2481,    12,\n",
       "         15283,    13,  3603,  1528,  2554,  2065,  4538,    18,     3]]), 'token_type_ids': tensor([[0, 0, 0, 0, 0, 0, 0, 0, 0, 0, 0, 0, 0, 0, 1, 1, 1, 1, 1, 1, 1, 1, 1, 1,\n",
       "         1, 1, 1, 1, 1, 1, 1, 1, 1, 1, 1, 1, 1, 1, 1, 1, 1, 1, 1, 1, 1, 1, 1, 1,\n",
       "         1]]), 'attention_mask': tensor([[1, 1, 1, 1, 1, 1, 1, 1, 1, 1, 1, 1, 1, 1, 1, 1, 1, 1, 1, 1, 1, 1, 1, 1,\n",
       "         1, 1, 1, 1, 1, 1, 1, 1, 1, 1, 1, 1, 1, 1, 1, 1, 1, 1, 1, 1, 1, 1, 1, 1,\n",
       "         1]])}"
      ]
     },
     "execution_count": 17,
     "metadata": {},
     "output_type": "execute_result"
    }
   ],
   "source": [
    "tokenized_dataset(pd.DataFrame(train_dataset.iloc[1]).T, tokenizer)"
   ]
  },
  {
   "cell_type": "code",
   "execution_count": 22,
   "id": "b4961637",
   "metadata": {
    "ExecuteTime": {
     "end_time": "2022-11-15T08:47:24.222046Z",
     "start_time": "2022-11-15T08:47:24.214861Z"
    }
   },
   "outputs": [
    {
     "data": {
      "text/plain": [
       "['[CLS]', '바른', '##미', '##래', '##당', '[SEP]']"
      ]
     },
     "execution_count": 22,
     "metadata": {},
     "output_type": "execute_result"
    }
   ],
   "source": [
    "tokenizer.tokenize(\"바른미래당\", add_special_tokens = True)"
   ]
  },
  {
   "cell_type": "code",
   "execution_count": 23,
   "id": "22799dc7",
   "metadata": {
    "ExecuteTime": {
     "end_time": "2022-11-15T08:47:25.127465Z",
     "start_time": "2022-11-15T08:47:25.119048Z"
    }
   },
   "outputs": [
    {
     "data": {
      "text/plain": [
       "[2, 6417, 2044, 2315, 2481, 3]"
      ]
     },
     "execution_count": 23,
     "metadata": {},
     "output_type": "execute_result"
    }
   ],
   "source": [
    "tokenizer.encode(\"바른미래당\")"
   ]
  }
 ],
 "metadata": {
  "kernelspec": {
   "display_name": "boost0",
   "language": "python",
   "name": "boost0"
  },
  "language_info": {
   "codemirror_mode": {
    "name": "ipython",
    "version": 3
   },
   "file_extension": ".py",
   "mimetype": "text/x-python",
   "name": "python",
   "nbconvert_exporter": "python",
   "pygments_lexer": "ipython3",
   "version": "3.7.13"
  },
  "toc": {
   "base_numbering": 1,
   "nav_menu": {},
   "number_sections": false,
   "sideBar": true,
   "skip_h1_title": false,
   "title_cell": "Table of Contents",
   "title_sidebar": "Contents",
   "toc_cell": false,
   "toc_position": {},
   "toc_section_display": true,
   "toc_window_display": false
  }
 },
 "nbformat": 4,
 "nbformat_minor": 5
}
