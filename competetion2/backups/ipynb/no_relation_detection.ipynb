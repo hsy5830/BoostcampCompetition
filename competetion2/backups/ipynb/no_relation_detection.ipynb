{
 "cells": [
  {
   "cell_type": "markdown",
   "id": "13e3a651",
   "metadata": {},
   "source": [
    "# 데이터 불러오기"
   ]
  },
  {
   "cell_type": "code",
   "execution_count": 6,
   "id": "b77d1321",
   "metadata": {
    "ExecuteTime": {
     "end_time": "2022-11-30T04:41:23.069208Z",
     "start_time": "2022-11-30T04:41:22.808822Z"
    }
   },
   "outputs": [],
   "source": [
    "import pandas as pd\n",
    "import numpy as np\n",
    "from sklearn.model_selection import StratifiedKFold\n",
    "\n",
    "import seaborn as sns\n",
    "import matplotlib.pyplot as plt\n",
    "\n",
    "df_train = pd.read_csv('data/train.csv')\n",
    "df29 = pd.read_csv('./data/submission_29.csv')\n",
    "df_test = pd.read_csv('./data/test_with_label.csv')"
   ]
  },
  {
   "cell_type": "markdown",
   "id": "9c6a4045",
   "metadata": {},
   "source": [
    "# True no_relation -> Pred else [id]"
   ]
  },
  {
   "cell_type": "code",
   "execution_count": 19,
   "id": "db8d389c",
   "metadata": {
    "ExecuteTime": {
     "end_time": "2022-11-30T04:46:12.702798Z",
     "start_time": "2022-11-30T04:46:11.892963Z"
    }
   },
   "outputs": [
    {
     "data": {
      "text/plain": [
       "989"
      ]
     },
     "execution_count": 19,
     "metadata": {},
     "output_type": "execute_result"
    }
   ],
   "source": [
    "no_but_else = [] # save id \n",
    "for i in range(df29.shape[0]):\n",
    "    if df_test.iloc[i,:]['label'] == 'no_relation' and df29.iloc[i,:]['pred_label'] == 'else':\n",
    "        no_but_else.append(i)\n",
    "len(no_but_else)"
   ]
  },
  {
   "cell_type": "markdown",
   "id": "e2b61d19",
   "metadata": {},
   "source": [
    "# True no_relation -> Pred else -> re_Pred no_relation"
   ]
  },
  {
   "cell_type": "code",
   "execution_count": 23,
   "id": "b619972d",
   "metadata": {
    "ExecuteTime": {
     "end_time": "2022-11-30T05:50:30.097949Z",
     "start_time": "2022-11-30T05:50:29.943216Z"
    }
   },
   "outputs": [
    {
     "data": {
      "text/plain": [
       "326"
      ]
     },
     "execution_count": 23,
     "metadata": {},
     "output_type": "execute_result"
    }
   ],
   "source": [
    "## under sampling data로 학습시킨 모델에\n",
    "## test_data.csv에서 실제 no_relation이었지만, 처음에 binary에서 else로 예측했다가 나중에 두 번째 모형에서 no_relation으로 예측한 개수\n",
    "\n",
    "# load new submission\n",
    "df_sub = pd.read_csv(\"./data/submission_no_else_no.csv\") # 7765\n",
    "\n",
    "else2no = [] # save id \n",
    "for i in no_but_else:\n",
    "    if df_sub.iloc[i,:]['pred_label'] == 'no_relation':    # no_but_else에는 no_relation을 else로 잘못 예측한 id들이 들어가있음\n",
    "        else2no.append(i)\n",
    "len(else2no)"
   ]
  },
  {
   "cell_type": "markdown",
   "id": "7f52bf90",
   "metadata": {},
   "source": [
    "# F1_score 계산\n",
    "(221130)\n",
    "\n",
    "어제는 내가 만든 두 번째 모형이 29개의 label만 분류를 했지만,<br>\n",
    "지금 모형은 기존의 30개 label을 전부 예측할 수 있는 모형.\n",
    "\n",
    "어제와의 차이점이 존재한다.\n",
    "\n",
    "어제 모형은 실제 no_relation을 else로 예측한 애들을 다시 no_relation으로 알맞게 예측할 수 없었음(29개만 하기 때문에)"
   ]
  },
  {
   "cell_type": "markdown",
   "id": "5bf1f7e0",
   "metadata": {},
   "source": [
    "## 30 label ver.\n",
    "\n",
    "inference를 test_data.csv 로 했을 때."
   ]
  },
  {
   "cell_type": "code",
   "execution_count": 77,
   "id": "e49d3c3a",
   "metadata": {
    "ExecuteTime": {
     "end_time": "2022-11-30T08:30:21.827307Z",
     "start_time": "2022-11-30T08:30:21.734628Z"
    }
   },
   "outputs": [
    {
     "data": {
      "text/plain": [
       "0"
      ]
     },
     "execution_count": 77,
     "metadata": {},
     "output_type": "execute_result"
    }
   ],
   "source": [
    "df_infer = pd.read_csv(\"./data/submission_train_else.csv\")\n",
    "sum(df_infer['pred_label'] == 'no_relation')"
   ]
  },
  {
   "cell_type": "code",
   "execution_count": 78,
   "id": "ee9e2cae",
   "metadata": {
    "ExecuteTime": {
     "end_time": "2022-11-30T08:30:30.085494Z",
     "start_time": "2022-11-30T08:30:30.062461Z"
    }
   },
   "outputs": [
    {
     "data": {
      "text/html": [
       "<div>\n",
       "<style scoped>\n",
       "    .dataframe tbody tr th:only-of-type {\n",
       "        vertical-align: middle;\n",
       "    }\n",
       "\n",
       "    .dataframe tbody tr th {\n",
       "        vertical-align: top;\n",
       "    }\n",
       "\n",
       "    .dataframe thead th {\n",
       "        text-align: right;\n",
       "    }\n",
       "</style>\n",
       "<table border=\"1\" class=\"dataframe\">\n",
       "  <thead>\n",
       "    <tr style=\"text-align: right;\">\n",
       "      <th></th>\n",
       "      <th>id</th>\n",
       "      <th>pred_label</th>\n",
       "      <th>probs</th>\n",
       "    </tr>\n",
       "  </thead>\n",
       "  <tbody>\n",
       "    <tr>\n",
       "      <th>0</th>\n",
       "      <td>0</td>\n",
       "      <td>org:product</td>\n",
       "      <td>[0.00014809485583100468, 4.521029404713772e-05...</td>\n",
       "    </tr>\n",
       "    <tr>\n",
       "      <th>1</th>\n",
       "      <td>1</td>\n",
       "      <td>per:title</td>\n",
       "      <td>[0.00010074729652842507, 4.3126226955791935e-0...</td>\n",
       "    </tr>\n",
       "    <tr>\n",
       "      <th>2</th>\n",
       "      <td>2</td>\n",
       "      <td>org:dissolved</td>\n",
       "      <td>[0.0007704586605541408, 0.0002529222401790321,...</td>\n",
       "    </tr>\n",
       "    <tr>\n",
       "      <th>3</th>\n",
       "      <td>3</td>\n",
       "      <td>per:other_family</td>\n",
       "      <td>[0.000770598475355655, 0.0006429736968129873, ...</td>\n",
       "    </tr>\n",
       "    <tr>\n",
       "      <th>4</th>\n",
       "      <td>4</td>\n",
       "      <td>org:top_members/employees</td>\n",
       "      <td>[1.50126052176347e-05, 0.9995294809341431, 2.6...</td>\n",
       "    </tr>\n",
       "    <tr>\n",
       "      <th>...</th>\n",
       "      <td>...</td>\n",
       "      <td>...</td>\n",
       "      <td>...</td>\n",
       "    </tr>\n",
       "    <tr>\n",
       "      <th>7760</th>\n",
       "      <td>7760</td>\n",
       "      <td>org:place_of_headquarters</td>\n",
       "      <td>[4.12692861573305e-05, 0.00010937532351817936,...</td>\n",
       "    </tr>\n",
       "    <tr>\n",
       "      <th>7761</th>\n",
       "      <td>7761</td>\n",
       "      <td>org:number_of_employees/members</td>\n",
       "      <td>[0.0022659816313534975, 0.0010699615813791752,...</td>\n",
       "    </tr>\n",
       "    <tr>\n",
       "      <th>7762</th>\n",
       "      <td>7762</td>\n",
       "      <td>org:top_members/employees</td>\n",
       "      <td>[1.494631123932777e-05, 0.9995831847190857, 1....</td>\n",
       "    </tr>\n",
       "    <tr>\n",
       "      <th>7763</th>\n",
       "      <td>7763</td>\n",
       "      <td>per:date_of_birth</td>\n",
       "      <td>[0.00022600110969506204, 9.997283632401377e-05...</td>\n",
       "    </tr>\n",
       "    <tr>\n",
       "      <th>7764</th>\n",
       "      <td>7764</td>\n",
       "      <td>per:date_of_death</td>\n",
       "      <td>[0.001960442401468754, 0.001720042317174375, 0...</td>\n",
       "    </tr>\n",
       "  </tbody>\n",
       "</table>\n",
       "<p>7765 rows × 3 columns</p>\n",
       "</div>"
      ],
      "text/plain": [
       "        id                       pred_label  \\\n",
       "0        0                      org:product   \n",
       "1        1                        per:title   \n",
       "2        2                    org:dissolved   \n",
       "3        3                 per:other_family   \n",
       "4        4        org:top_members/employees   \n",
       "...    ...                              ...   \n",
       "7760  7760        org:place_of_headquarters   \n",
       "7761  7761  org:number_of_employees/members   \n",
       "7762  7762        org:top_members/employees   \n",
       "7763  7763                per:date_of_birth   \n",
       "7764  7764                per:date_of_death   \n",
       "\n",
       "                                                  probs  \n",
       "0     [0.00014809485583100468, 4.521029404713772e-05...  \n",
       "1     [0.00010074729652842507, 4.3126226955791935e-0...  \n",
       "2     [0.0007704586605541408, 0.0002529222401790321,...  \n",
       "3     [0.000770598475355655, 0.0006429736968129873, ...  \n",
       "4     [1.50126052176347e-05, 0.9995294809341431, 2.6...  \n",
       "...                                                 ...  \n",
       "7760  [4.12692861573305e-05, 0.00010937532351817936,...  \n",
       "7761  [0.0022659816313534975, 0.0010699615813791752,...  \n",
       "7762  [1.494631123932777e-05, 0.9995831847190857, 1....  \n",
       "7763  [0.00022600110969506204, 9.997283632401377e-05...  \n",
       "7764  [0.001960442401468754, 0.001720042317174375, 0...  \n",
       "\n",
       "[7765 rows x 3 columns]"
      ]
     },
     "execution_count": 78,
     "metadata": {},
     "output_type": "execute_result"
    }
   ],
   "source": [
    "df_infer"
   ]
  },
  {
   "cell_type": "code",
   "execution_count": 79,
   "id": "f489e558",
   "metadata": {
    "ExecuteTime": {
     "end_time": "2022-11-30T08:30:50.596620Z",
     "start_time": "2022-11-30T08:30:49.541478Z"
    }
   },
   "outputs": [
    {
     "data": {
      "text/plain": [
       "4350"
      ]
     },
     "execution_count": 79,
     "metadata": {},
     "output_type": "execute_result"
    }
   ],
   "source": [
    "df_sub = pd.read_csv(\"./data/submission_29.csv\")\n",
    "id_norelation = []\n",
    "\n",
    "for i in range(df_sub.shape[0]):\n",
    "    if df_sub.iloc[i,:]['pred_label'] == 'no_relation':\n",
    "        id_norelation.append(i)\n",
    "\n",
    "df_infer = pd.read_csv(\"./data/submission_train_else.csv\")\n",
    "label = []\n",
    "for i in range(df_sub.shape[0]):\n",
    "    if i in id_norelation:\n",
    "        label.append('no_relation')\n",
    "    else:\n",
    "        label.append(df_infer.iloc[i,:]['pred_label'])\n",
    "\n",
    "df_infer.drop(labels = 'pred_label', axis=1, inplace=True)\n",
    "df_infer = pd.concat([df_infer, pd.Series(label)], axis = 1)\n",
    "df_infer.columns = ['id', 'probs', 'pred_label']\n",
    "df_infer = df_infer[['id','pred_label','probs']]\n",
    "\n",
    "# df_infer\n",
    "sum(df_infer['pred_label'] == 'no_relation')"
   ]
  },
  {
   "cell_type": "code",
   "execution_count": 80,
   "id": "a0ea6fdc",
   "metadata": {
    "ExecuteTime": {
     "end_time": "2022-11-30T08:30:55.147201Z",
     "start_time": "2022-11-30T08:30:55.128454Z"
    }
   },
   "outputs": [],
   "source": [
    "l_dic = {'no_relation': 0, 'org:top_members/employees': 1, 'org:members': 2, 'org:product': 3, 'per:title': 4, 'org:alternate_names': 5, 'per:employee_of': 6, 'org:place_of_headquarters': 7, 'per:product': 8, 'org:number_of_employees/members': 9, 'per:children': 10, \n",
    "         'per:place_of_residence': 11, 'per:alternate_names': 12, 'per:other_family': 13, 'per:colleagues': 14, 'per:origin': 15, 'per:siblings': 16, 'per:spouse': 17, 'org:founded': 18, 'org:political/religious_affiliation': 19, 'org:member_of': 20, \n",
    "         'per:parents': 21, 'org:dissolved': 22, 'per:schools_attended': 23, 'per:date_of_death': 24, 'per:date_of_birth': 25, 'per:place_of_birth': 26, 'per:place_of_death': 27, 'org:founded_by': 28, 'per:religion': 29}\n",
    "\n",
    "true = list(df_test['label'])\n",
    "pred = list(df_infer['pred_label'])\n",
    "\n",
    "true = [l_dic[label] for label in true]\n",
    "pred = [l_dic[label] for label in pred]"
   ]
  },
  {
   "cell_type": "markdown",
   "id": "71e0bc55",
   "metadata": {},
   "source": [
    "## 29 label ver.\n",
    "\n",
    "inference를 test_else.csv 로 했을 때"
   ]
  },
  {
   "cell_type": "code",
   "execution_count": null,
   "id": "7a706f9f",
   "metadata": {},
   "outputs": [],
   "source": []
  },
  {
   "cell_type": "code",
   "execution_count": null,
   "id": "9d9e39a6",
   "metadata": {},
   "outputs": [],
   "source": []
  },
  {
   "cell_type": "code",
   "execution_count": null,
   "id": "b0692bac",
   "metadata": {},
   "outputs": [],
   "source": []
  },
  {
   "cell_type": "markdown",
   "id": "f754c607",
   "metadata": {},
   "source": [
    "### f1 score"
   ]
  },
  {
   "cell_type": "code",
   "execution_count": 62,
   "id": "9663bc01",
   "metadata": {
    "ExecuteTime": {
     "end_time": "2022-11-30T06:40:55.466034Z",
     "start_time": "2022-11-30T06:40:55.455286Z"
    }
   },
   "outputs": [],
   "source": [
    "from sklearn.metrics import accuracy_score, recall_score, precision_score, f1_score\n",
    "import sklearn\n",
    "def klue_re_micro_f1(preds, labels):\n",
    "    \"\"\"KLUE-RE micro f1 (except no_relation)\"\"\"\n",
    "    label_list = ['no_relation', 'org:top_members/employees', 'org:members',\n",
    "       'org:product', 'per:title', 'org:alternate_names',\n",
    "       'per:employee_of', 'org:place_of_headquarters', 'per:product',\n",
    "       'org:number_of_employees/members', 'per:children',\n",
    "       'per:place_of_residence', 'per:alternate_names',\n",
    "       'per:other_family', 'per:colleagues', 'per:origin', 'per:siblings',\n",
    "       'per:spouse', 'org:founded', 'org:political/religious_affiliation',\n",
    "       'org:member_of', 'per:parents', 'org:dissolved',\n",
    "       'per:schools_attended', 'per:date_of_death', 'per:date_of_birth',\n",
    "       'per:place_of_birth', 'per:place_of_death', 'org:founded_by',\n",
    "       'per:religion']\n",
    "    no_relation_label_idx = label_list.index(\"no_relation\")\n",
    "    label_indices = list(range(len(label_list)))\n",
    "    label_indices.remove(no_relation_label_idx)\n",
    "    return sklearn.metrics.f1_score(labels, preds, average=\"micro\", labels=label_indices) * 100.0"
   ]
  },
  {
   "cell_type": "code",
   "execution_count": 81,
   "id": "d608211a",
   "metadata": {
    "ExecuteTime": {
     "end_time": "2022-11-30T08:31:02.328752Z",
     "start_time": "2022-11-30T08:31:02.300243Z"
    }
   },
   "outputs": [
    {
     "data": {
      "text/plain": [
       "63.612765307680554"
      ]
     },
     "execution_count": 81,
     "metadata": {},
     "output_type": "execute_result"
    }
   ],
   "source": [
    "klue_re_micro_f1(pred, true)"
   ]
  },
  {
   "cell_type": "markdown",
   "id": "5380deaa",
   "metadata": {},
   "source": [
    "# 맞춘 개수 count"
   ]
  },
  {
   "cell_type": "code",
   "execution_count": null,
   "id": "3c6775a4",
   "metadata": {},
   "outputs": [],
   "source": []
  },
  {
   "cell_type": "markdown",
   "id": "2e49cf9a",
   "metadata": {},
   "source": [
    "## 30 label ver."
   ]
  },
  {
   "cell_type": "code",
   "execution_count": 82,
   "id": "1a89338a",
   "metadata": {
    "ExecuteTime": {
     "end_time": "2022-11-30T08:31:33.387639Z",
     "start_time": "2022-11-30T08:31:32.871111Z"
    }
   },
   "outputs": [
    {
     "data": {
      "text/plain": [
       "3415"
      ]
     },
     "execution_count": 82,
     "metadata": {},
     "output_type": "execute_result"
    }
   ],
   "source": [
    "pred_else = [] # binary에서 'else'로 예측한 id\n",
    "for i in range(df29.shape[0]):\n",
    "    if df29.iloc[i,:]['pred_label'] == 'else':\n",
    "        pred_else.append(i)\n",
    "len(pred_else)"
   ]
  },
  {
   "cell_type": "code",
   "execution_count": 83,
   "id": "b7cd1acb",
   "metadata": {
    "ExecuteTime": {
     "end_time": "2022-11-30T08:31:54.163066Z",
     "start_time": "2022-11-30T08:31:53.471209Z"
    }
   },
   "outputs": [
    {
     "name": "stdout",
     "output_type": "stream",
     "text": [
      "같은 것 개수 : 2083\n",
      "그 중 no_relation 의 개수 : 0\n",
      "True \"else\" 중 정확하게 맞춘 개수 : 2083\n"
     ]
    }
   ],
   "source": [
    "df_sub = pd.read_csv(\"./data/submission_train_else.csv\") # 7765\n",
    "df_test = pd.read_csv('./data/test_with_label.csv')\n",
    "\n",
    "count_same = [] # 예측이 같은 것의 개수\n",
    "count_norelation = [] # 그 중 no relation의 개수\n",
    "for i in pred_else:\n",
    "    if df_sub.iloc[i,:]['pred_label'] == df_test.iloc[i,:]['label']:\n",
    "        count_same.append(i)\n",
    "        if df_sub.iloc[i,:]['pred_label'] == 'no_relation':\n",
    "            count_norelation.append(i)\n",
    "\n",
    "print(f'같은 것 개수 : {len(count_same)}')\n",
    "print(f'그 중 no_relation 의 개수 : {len(count_norelation)}')\n",
    "\n",
    "print(f'True \"else\" 중 정확하게 맞춘 개수 : {len(count_same) - len(count_norelation)}')"
   ]
  },
  {
   "cell_type": "markdown",
   "id": "b6cc18b8",
   "metadata": {},
   "source": [
    "## 29 label ver."
   ]
  },
  {
   "cell_type": "code",
   "execution_count": 75,
   "id": "e2dfeb94",
   "metadata": {
    "ExecuteTime": {
     "end_time": "2022-11-30T06:59:46.530800Z",
     "start_time": "2022-11-30T06:59:46.464829Z"
    }
   },
   "outputs": [
    {
     "data": {
      "text/html": [
       "<div>\n",
       "<style scoped>\n",
       "    .dataframe tbody tr th:only-of-type {\n",
       "        vertical-align: middle;\n",
       "    }\n",
       "\n",
       "    .dataframe tbody tr th {\n",
       "        vertical-align: top;\n",
       "    }\n",
       "\n",
       "    .dataframe thead th {\n",
       "        text-align: right;\n",
       "    }\n",
       "</style>\n",
       "<table border=\"1\" class=\"dataframe\">\n",
       "  <thead>\n",
       "    <tr style=\"text-align: right;\">\n",
       "      <th></th>\n",
       "      <th>id</th>\n",
       "      <th>pred_label</th>\n",
       "    </tr>\n",
       "  </thead>\n",
       "  <tbody>\n",
       "    <tr>\n",
       "      <th>0</th>\n",
       "      <td>0</td>\n",
       "      <td>org:members</td>\n",
       "    </tr>\n",
       "    <tr>\n",
       "      <th>1</th>\n",
       "      <td>1</td>\n",
       "      <td>per:alternate_names</td>\n",
       "    </tr>\n",
       "    <tr>\n",
       "      <th>0</th>\n",
       "      <td>2</td>\n",
       "      <td>no_relation</td>\n",
       "    </tr>\n",
       "    <tr>\n",
       "      <th>1</th>\n",
       "      <td>3</td>\n",
       "      <td>no_relation</td>\n",
       "    </tr>\n",
       "    <tr>\n",
       "      <th>2</th>\n",
       "      <td>4</td>\n",
       "      <td>no_relation</td>\n",
       "    </tr>\n",
       "    <tr>\n",
       "      <th>...</th>\n",
       "      <td>...</td>\n",
       "      <td>...</td>\n",
       "    </tr>\n",
       "    <tr>\n",
       "      <th>3412</th>\n",
       "      <td>7760</td>\n",
       "      <td>org:place_of_headquarters</td>\n",
       "    </tr>\n",
       "    <tr>\n",
       "      <th>4348</th>\n",
       "      <td>7761</td>\n",
       "      <td>no_relation</td>\n",
       "    </tr>\n",
       "    <tr>\n",
       "      <th>3413</th>\n",
       "      <td>7762</td>\n",
       "      <td>org:top_members/employees</td>\n",
       "    </tr>\n",
       "    <tr>\n",
       "      <th>3414</th>\n",
       "      <td>7763</td>\n",
       "      <td>org:founded</td>\n",
       "    </tr>\n",
       "    <tr>\n",
       "      <th>4349</th>\n",
       "      <td>7764</td>\n",
       "      <td>no_relation</td>\n",
       "    </tr>\n",
       "  </tbody>\n",
       "</table>\n",
       "<p>7765 rows × 2 columns</p>\n",
       "</div>"
      ],
      "text/plain": [
       "        id                 pred_label\n",
       "0        0                org:members\n",
       "1        1        per:alternate_names\n",
       "0        2                no_relation\n",
       "1        3                no_relation\n",
       "2        4                no_relation\n",
       "...    ...                        ...\n",
       "3412  7760  org:place_of_headquarters\n",
       "4348  7761                no_relation\n",
       "3413  7762  org:top_members/employees\n",
       "3414  7763                org:founded\n",
       "4349  7764                no_relation\n",
       "\n",
       "[7765 rows x 2 columns]"
      ]
     },
     "execution_count": 75,
     "metadata": {},
     "output_type": "execute_result"
    }
   ],
   "source": [
    "df_else = pd.read_csv('./data/submission_else.csv')\n",
    "\n",
    "l = pd.DataFrame()\n",
    "li = []\n",
    "id_nonexist = set(range(7765)) - set(list(df_else['id']))\n",
    "for i in id_nonexist:\n",
    "#     l = pd.concat([l, pd.Series([i, 'no_relation']).T], axis = 0)\n",
    "    li.append([i, 'no_relation'])\n",
    "tmp = pd.concat([l, pd.DataFrame(li)], axis=0)\n",
    "tmp.columns = ['id', 'pred_label']\n",
    "\n",
    "df_else = pd.concat([df_else[['id', 'pred_label']], tmp], axis = 0)\n",
    "df_else = df_else.sort_values(by='id')\n",
    "df_else"
   ]
  },
  {
   "cell_type": "code",
   "execution_count": 76,
   "id": "cafa69f4",
   "metadata": {
    "ExecuteTime": {
     "end_time": "2022-11-30T06:59:48.768464Z",
     "start_time": "2022-11-30T06:59:48.131455Z"
    }
   },
   "outputs": [
    {
     "name": "stdout",
     "output_type": "stream",
     "text": [
      "같은 것 개수 : 2042\n",
      "그 중 no_relation 의 개수 : 0\n",
      "True \"else\" 중 정확하게 맞춘 개수 : 2042\n"
     ]
    }
   ],
   "source": [
    "# df_sub = pd.read_csv(\"./data/submission_no_else_no.csv\") # 7765\n",
    "df_test = pd.read_csv('./data/test_with_label.csv')\n",
    "\n",
    "count_same = [] # 예측이 같은 것의 개수\n",
    "count_norelation = [] # 그 중 no relation의 개수\n",
    "for i in pred_else:\n",
    "    if df_else.iloc[i,:]['pred_label'] == df_test.iloc[i,:]['label']:\n",
    "        count_same.append(i)\n",
    "        if df_else.iloc[i,:]['pred_label'] == 'no_relation':\n",
    "            count_norelation.append(i)\n",
    "\n",
    "print(f'같은 것 개수 : {len(count_same)}')\n",
    "print(f'그 중 no_relation 의 개수 : {len(count_norelation)}')\n",
    "\n",
    "print(f'True \"else\" 중 정확하게 맞춘 개수 : {len(count_same) - len(count_norelation)}')"
   ]
  },
  {
   "cell_type": "code",
   "execution_count": null,
   "id": "bc643129",
   "metadata": {},
   "outputs": [],
   "source": []
  }
 ],
 "metadata": {
  "kernelspec": {
   "display_name": "boost0",
   "language": "python",
   "name": "boost0"
  },
  "language_info": {
   "codemirror_mode": {
    "name": "ipython",
    "version": 3
   },
   "file_extension": ".py",
   "mimetype": "text/x-python",
   "name": "python",
   "nbconvert_exporter": "python",
   "pygments_lexer": "ipython3",
   "version": "3.7.13"
  },
  "toc": {
   "base_numbering": 1,
   "nav_menu": {},
   "number_sections": true,
   "sideBar": true,
   "skip_h1_title": false,
   "title_cell": "Table of Contents",
   "title_sidebar": "Contents",
   "toc_cell": false,
   "toc_position": {},
   "toc_section_display": true,
   "toc_window_display": false
  }
 },
 "nbformat": 4,
 "nbformat_minor": 5
}
