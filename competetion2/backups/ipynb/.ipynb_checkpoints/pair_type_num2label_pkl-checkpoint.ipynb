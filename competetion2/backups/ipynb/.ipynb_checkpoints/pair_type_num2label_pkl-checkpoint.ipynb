{
 "cells": [
  {
   "cell_type": "code",
   "execution_count": 14,
   "id": "f7f5a99c",
   "metadata": {
    "ExecuteTime": {
     "end_time": "2022-11-21T16:00:07.190373Z",
     "start_time": "2022-11-21T16:00:07.180280Z"
    }
   },
   "outputs": [
    {
     "data": {
      "text/plain": [
       "105.8125"
      ]
     },
     "execution_count": 14,
     "metadata": {},
     "output_type": "execute_result"
    }
   ],
   "source": [
    "1693/16 # 0"
   ]
  },
  {
   "cell_type": "code",
   "execution_count": 6,
   "id": "819f09ad",
   "metadata": {
    "ExecuteTime": {
     "end_time": "2022-11-21T15:30:22.782481Z",
     "start_time": "2022-11-21T15:30:22.776841Z"
    }
   },
   "outputs": [
    {
     "data": {
      "text/plain": [
       "90.25"
      ]
     },
     "execution_count": 6,
     "metadata": {},
     "output_type": "execute_result"
    }
   ],
   "source": [
    "1444/16 # 1"
   ]
  },
  {
   "cell_type": "code",
   "execution_count": 7,
   "id": "670fa46c",
   "metadata": {
    "ExecuteTime": {
     "end_time": "2022-11-21T15:30:33.434382Z",
     "start_time": "2022-11-21T15:30:33.428547Z"
    }
   },
   "outputs": [
    {
     "data": {
      "text/plain": [
       "12.8125"
      ]
     },
     "execution_count": 7,
     "metadata": {},
     "output_type": "execute_result"
    }
   ],
   "source": [
    "205/16 # 2"
   ]
  },
  {
   "cell_type": "code",
   "execution_count": 8,
   "id": "d0b9c581",
   "metadata": {
    "ExecuteTime": {
     "end_time": "2022-11-21T15:30:42.052666Z",
     "start_time": "2022-11-21T15:30:42.045658Z"
    }
   },
   "outputs": [
    {
     "data": {
      "text/plain": [
       "254.8125"
      ]
     },
     "execution_count": 8,
     "metadata": {},
     "output_type": "execute_result"
    }
   ],
   "source": [
    "4077/16 # 3"
   ]
  },
  {
   "cell_type": "code",
   "execution_count": 9,
   "id": "f7130b92",
   "metadata": {
    "ExecuteTime": {
     "end_time": "2022-11-21T15:30:52.811814Z",
     "start_time": "2022-11-21T15:30:52.805945Z"
    }
   },
   "outputs": [
    {
     "data": {
      "text/plain": [
       "239.3125"
      ]
     },
     "execution_count": 9,
     "metadata": {},
     "output_type": "execute_result"
    }
   ],
   "source": [
    "3829/16 # 4"
   ]
  },
  {
   "cell_type": "code",
   "execution_count": 10,
   "id": "b3d995e9",
   "metadata": {
    "ExecuteTime": {
     "end_time": "2022-11-21T15:30:57.170167Z",
     "start_time": "2022-11-21T15:30:57.163964Z"
    }
   },
   "outputs": [
    {
     "data": {
      "text/plain": [
       "81.375"
      ]
     },
     "execution_count": 10,
     "metadata": {},
     "output_type": "execute_result"
    }
   ],
   "source": [
    "1302/16 # 5"
   ]
  },
  {
   "cell_type": "code",
   "execution_count": 11,
   "id": "f62d3fca",
   "metadata": {
    "ExecuteTime": {
     "end_time": "2022-11-21T15:31:02.741563Z",
     "start_time": "2022-11-21T15:31:02.733952Z"
    }
   },
   "outputs": [
    {
     "data": {
      "text/plain": [
       "106.1875"
      ]
     },
     "execution_count": 11,
     "metadata": {},
     "output_type": "execute_result"
    }
   ],
   "source": [
    "1699/16 # 6"
   ]
  },
  {
   "cell_type": "code",
   "execution_count": 12,
   "id": "49da7d67",
   "metadata": {
    "ExecuteTime": {
     "end_time": "2022-11-21T15:31:10.950211Z",
     "start_time": "2022-11-21T15:31:10.943429Z"
    }
   },
   "outputs": [
    {
     "data": {
      "text/plain": [
       "90.375"
      ]
     },
     "execution_count": 12,
     "metadata": {},
     "output_type": "execute_result"
    }
   ],
   "source": [
    "1446/16 # 7"
   ]
  },
  {
   "cell_type": "code",
   "execution_count": 13,
   "id": "ca0ed2a1",
   "metadata": {
    "ExecuteTime": {
     "end_time": "2022-11-21T15:31:14.009139Z",
     "start_time": "2022-11-21T15:31:14.001028Z"
    }
   },
   "outputs": [
    {
     "data": {
      "text/plain": [
       "7.6875"
      ]
     },
     "execution_count": 13,
     "metadata": {},
     "output_type": "execute_result"
    }
   ],
   "source": [
    "123/16 # 8"
   ]
  },
  {
   "cell_type": "code",
   "execution_count": 16,
   "id": "ebc40303",
   "metadata": {
    "ExecuteTime": {
     "end_time": "2022-11-21T17:21:28.868088Z",
     "start_time": "2022-11-21T17:21:28.860559Z"
    }
   },
   "outputs": [
    {
     "data": {
      "text/plain": [
       "211.25"
      ]
     },
     "execution_count": 16,
     "metadata": {},
     "output_type": "execute_result"
    }
   ],
   "source": [
    "3380/16 # 9"
   ]
  },
  {
   "cell_type": "code",
   "execution_count": 18,
   "id": "af7ff717",
   "metadata": {
    "ExecuteTime": {
     "end_time": "2022-11-21T17:21:41.133907Z",
     "start_time": "2022-11-21T17:21:41.125890Z"
    }
   },
   "outputs": [
    {
     "data": {
      "text/plain": [
       "250.4375"
      ]
     },
     "execution_count": 18,
     "metadata": {},
     "output_type": "execute_result"
    }
   ],
   "source": [
    "4007/16 # 10"
   ]
  },
  {
   "cell_type": "code",
   "execution_count": 19,
   "id": "1b373cf5",
   "metadata": {
    "ExecuteTime": {
     "end_time": "2022-11-21T17:21:50.302891Z",
     "start_time": "2022-11-21T17:21:50.296726Z"
    }
   },
   "outputs": [
    {
     "data": {
      "text/plain": [
       "173.1875"
      ]
     },
     "execution_count": 19,
     "metadata": {},
     "output_type": "execute_result"
    }
   ],
   "source": [
    "2771/16 # 11"
   ]
  }
 ],
 "metadata": {
  "kernelspec": {
   "display_name": "boost0",
   "language": "python",
   "name": "boost0"
  },
  "language_info": {
   "codemirror_mode": {
    "name": "ipython",
    "version": 3
   },
   "file_extension": ".py",
   "mimetype": "text/x-python",
   "name": "python",
   "nbconvert_exporter": "python",
   "pygments_lexer": "ipython3",
   "version": "3.7.13"
  },
  "toc": {
   "base_numbering": 1,
   "nav_menu": {},
   "number_sections": true,
   "sideBar": true,
   "skip_h1_title": false,
   "title_cell": "Table of Contents",
   "title_sidebar": "Contents",
   "toc_cell": false,
   "toc_position": {},
   "toc_section_display": true,
   "toc_window_display": false
  }
 },
 "nbformat": 4,
 "nbformat_minor": 5
}
